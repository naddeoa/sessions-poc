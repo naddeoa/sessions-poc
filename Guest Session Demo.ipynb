{
 "cells": [
  {
   "cell_type": "markdown",
   "id": "psychological-shelf",
   "metadata": {},
   "source": [
    "# Guest Session Feature Demo\n",
    "\n",
    "This notebook is a demo of a feature that WhyLabs is working on called Guest Sessions. The feature builds ontop of our open source library, whylogs, to make it easier to visualize datasets and identify data issues. \n",
    "\n",
    "Typically when using whylogs, you'll log data to using one of the `whylogs.log()` apis to generate JSON and/or binary profiles locally that summarize various statistics about the dataset. That feature isn't going anywhere, don't worry! Guest Sessions take those generated statistics and uploads them to WhyLabs.ai to populate our dashboard without the need to sign in or share any personal identifiable information."
   ]
  },
  {
   "cell_type": "markdown",
   "id": "infinite-malpractice",
   "metadata": {},
   "source": [
    "## How it works\n",
    "\n",
    "The rest of the notebook will go through how the feature works and how to use it, starting with imports."
   ]
  },
  {
   "cell_type": "code",
   "execution_count": 1,
   "id": "three-millennium",
   "metadata": {},
   "outputs": [],
   "source": [
    "import pandas as pd\n",
    "from datetime import datetime, timedelta\n",
    "from whylogs.app.session import start_whylabs_session\n",
    "from tqdm.auto import tqdm"
   ]
  },
  {
   "cell_type": "markdown",
   "id": "compound-richards",
   "metadata": {},
   "source": [
    "### Load the data\n",
    "\n",
    "Next, we'll load a sample dataset for logging with whylogs. The dataset was based on a set [from Kaggle](https://www.kaggle.com/yugagrawal95/sample-media-spends-data) for various advertising campaigns. We'll just use the subset of data from April months."
   ]
  },
  {
   "cell_type": "code",
   "execution_count": 2,
   "id": "controlled-vintage",
   "metadata": {},
   "outputs": [
    {
     "data": {
      "text/html": [
       "<div>\n",
       "<style scoped>\n",
       "    .dataframe tbody tr th:only-of-type {\n",
       "        vertical-align: middle;\n",
       "    }\n",
       "\n",
       "    .dataframe tbody tr th {\n",
       "        vertical-align: top;\n",
       "    }\n",
       "\n",
       "    .dataframe thead th {\n",
       "        text-align: right;\n",
       "    }\n",
       "</style>\n",
       "<table border=\"1\" class=\"dataframe\">\n",
       "  <thead>\n",
       "    <tr style=\"text-align: right;\">\n",
       "      <th></th>\n",
       "      <th>Division</th>\n",
       "      <th>Calendar_Week</th>\n",
       "      <th>Paid_Views</th>\n",
       "      <th>Organic_Views</th>\n",
       "      <th>Google_Impressions</th>\n",
       "      <th>Email_Impressions</th>\n",
       "      <th>Facebook_Impressions</th>\n",
       "      <th>Affiliate_Impressions</th>\n",
       "      <th>Overall_Views</th>\n",
       "      <th>Sales</th>\n",
       "    </tr>\n",
       "  </thead>\n",
       "  <tbody>\n",
       "    <tr>\n",
       "      <th>0</th>\n",
       "      <td>A</td>\n",
       "      <td>2018-01-06</td>\n",
       "      <td>392</td>\n",
       "      <td>422</td>\n",
       "      <td>408</td>\n",
       "      <td>3.498950e+05</td>\n",
       "      <td>73580</td>\n",
       "      <td>12072</td>\n",
       "      <td>682</td>\n",
       "      <td>59417</td>\n",
       "    </tr>\n",
       "    <tr>\n",
       "      <th>1</th>\n",
       "      <td>A</td>\n",
       "      <td>2018-01-13</td>\n",
       "      <td>787</td>\n",
       "      <td>904</td>\n",
       "      <td>110</td>\n",
       "      <td>5.062702e+05</td>\n",
       "      <td>11804</td>\n",
       "      <td>9499</td>\n",
       "      <td>853</td>\n",
       "      <td>56806</td>\n",
       "    </tr>\n",
       "    <tr>\n",
       "      <th>2</th>\n",
       "      <td>A</td>\n",
       "      <td>2018-01-20</td>\n",
       "      <td>81</td>\n",
       "      <td>970</td>\n",
       "      <td>742</td>\n",
       "      <td>4.300422e+05</td>\n",
       "      <td>52232</td>\n",
       "      <td>17048</td>\n",
       "      <td>759</td>\n",
       "      <td>48715</td>\n",
       "    </tr>\n",
       "    <tr>\n",
       "      <th>3</th>\n",
       "      <td>A</td>\n",
       "      <td>2018-01-27</td>\n",
       "      <td>25</td>\n",
       "      <td>575</td>\n",
       "      <td>65</td>\n",
       "      <td>4.177457e+05</td>\n",
       "      <td>78640</td>\n",
       "      <td>10207</td>\n",
       "      <td>942</td>\n",
       "      <td>72047</td>\n",
       "    </tr>\n",
       "    <tr>\n",
       "      <th>4</th>\n",
       "      <td>A</td>\n",
       "      <td>2018-02-03</td>\n",
       "      <td>565</td>\n",
       "      <td>284</td>\n",
       "      <td>295</td>\n",
       "      <td>4.085058e+05</td>\n",
       "      <td>40561</td>\n",
       "      <td>5834</td>\n",
       "      <td>658</td>\n",
       "      <td>56235</td>\n",
       "    </tr>\n",
       "    <tr>\n",
       "      <th>...</th>\n",
       "      <td>...</td>\n",
       "      <td>...</td>\n",
       "      <td>...</td>\n",
       "      <td>...</td>\n",
       "      <td>...</td>\n",
       "      <td>...</td>\n",
       "      <td>...</td>\n",
       "      <td>...</td>\n",
       "      <td>...</td>\n",
       "      <td>...</td>\n",
       "    </tr>\n",
       "    <tr>\n",
       "      <th>3046</th>\n",
       "      <td>Z</td>\n",
       "      <td>2020-02-01</td>\n",
       "      <td>29239</td>\n",
       "      <td>25311</td>\n",
       "      <td>622406</td>\n",
       "      <td>1.459071e+06</td>\n",
       "      <td>45026</td>\n",
       "      <td>12098</td>\n",
       "      <td>53667</td>\n",
       "      <td>82707</td>\n",
       "    </tr>\n",
       "    <tr>\n",
       "      <th>3047</th>\n",
       "      <td>Z</td>\n",
       "      <td>2020-02-08</td>\n",
       "      <td>26230</td>\n",
       "      <td>28031</td>\n",
       "      <td>624409</td>\n",
       "      <td>5.342505e+05</td>\n",
       "      <td>227070</td>\n",
       "      <td>9548</td>\n",
       "      <td>53665</td>\n",
       "      <td>84503</td>\n",
       "    </tr>\n",
       "    <tr>\n",
       "      <th>3048</th>\n",
       "      <td>Z</td>\n",
       "      <td>2020-02-15</td>\n",
       "      <td>24749</td>\n",
       "      <td>31281</td>\n",
       "      <td>439362</td>\n",
       "      <td>4.227182e+05</td>\n",
       "      <td>393685</td>\n",
       "      <td>9861</td>\n",
       "      <td>55561</td>\n",
       "      <td>147325</td>\n",
       "    </tr>\n",
       "    <tr>\n",
       "      <th>3049</th>\n",
       "      <td>Z</td>\n",
       "      <td>2020-02-22</td>\n",
       "      <td>20713</td>\n",
       "      <td>30356</td>\n",
       "      <td>464178</td>\n",
       "      <td>6.085799e+05</td>\n",
       "      <td>424676</td>\n",
       "      <td>10221</td>\n",
       "      <td>49221</td>\n",
       "      <td>111525</td>\n",
       "    </tr>\n",
       "    <tr>\n",
       "      <th>3050</th>\n",
       "      <td>Z</td>\n",
       "      <td>2020-02-29</td>\n",
       "      <td>15990</td>\n",
       "      <td>26993</td>\n",
       "      <td>449032</td>\n",
       "      <td>4.390165e+05</td>\n",
       "      <td>161439</td>\n",
       "      <td>10294</td>\n",
       "      <td>42994</td>\n",
       "      <td>98187</td>\n",
       "    </tr>\n",
       "  </tbody>\n",
       "</table>\n",
       "<p>3051 rows × 10 columns</p>\n",
       "</div>"
      ],
      "text/plain": [
       "     Division Calendar_Week  Paid_Views  Organic_Views  Google_Impressions  \\\n",
       "0           A    2018-01-06         392            422                 408   \n",
       "1           A    2018-01-13         787            904                 110   \n",
       "2           A    2018-01-20          81            970                 742   \n",
       "3           A    2018-01-27          25            575                  65   \n",
       "4           A    2018-02-03         565            284                 295   \n",
       "...       ...           ...         ...            ...                 ...   \n",
       "3046        Z    2020-02-01       29239          25311              622406   \n",
       "3047        Z    2020-02-08       26230          28031              624409   \n",
       "3048        Z    2020-02-15       24749          31281              439362   \n",
       "3049        Z    2020-02-22       20713          30356              464178   \n",
       "3050        Z    2020-02-29       15990          26993              449032   \n",
       "\n",
       "      Email_Impressions  Facebook_Impressions  Affiliate_Impressions  \\\n",
       "0          3.498950e+05                 73580                  12072   \n",
       "1          5.062702e+05                 11804                   9499   \n",
       "2          4.300422e+05                 52232                  17048   \n",
       "3          4.177457e+05                 78640                  10207   \n",
       "4          4.085058e+05                 40561                   5834   \n",
       "...                 ...                   ...                    ...   \n",
       "3046       1.459071e+06                 45026                  12098   \n",
       "3047       5.342505e+05                227070                   9548   \n",
       "3048       4.227182e+05                393685                   9861   \n",
       "3049       6.085799e+05                424676                  10221   \n",
       "3050       4.390165e+05                161439                  10294   \n",
       "\n",
       "      Overall_Views   Sales  \n",
       "0               682   59417  \n",
       "1               853   56806  \n",
       "2               759   48715  \n",
       "3               942   72047  \n",
       "4               658   56235  \n",
       "...             ...     ...  \n",
       "3046          53667   82707  \n",
       "3047          53665   84503  \n",
       "3048          55561  147325  \n",
       "3049          49221  111525  \n",
       "3050          42994   98187  \n",
       "\n",
       "[3051 rows x 10 columns]"
      ]
     },
     "execution_count": 2,
     "metadata": {},
     "output_type": "execute_result"
    }
   ],
   "source": [
    "csv_file = \"data/sample_media_spend.csv\"\n",
    "csv_dataframe = pd.read_csv(csv_file, parse_dates=[\"Calendar_Week\"])\n",
    "csv_dataframe"
   ]
  },
  {
   "cell_type": "markdown",
   "id": "sensitive-carter",
   "metadata": {},
   "source": [
    "### Group the data\n",
    "\n",
    "We'll split the data into training and test data with a somewhat arbitrary date as the border."
   ]
  },
  {
   "cell_type": "code",
   "execution_count": 3,
   "id": "67c830ba",
   "metadata": {},
   "outputs": [],
   "source": [
    "model_date = datetime(2020, 1, 1)\n",
    "training_data = csv_dataframe[csv_dataframe[\"Calendar_Week\"] < model_date]\n",
    "test_data = csv_dataframe[csv_dataframe[\"Calendar_Week\"] >= model_date]"
   ]
  },
  {
   "cell_type": "markdown",
   "id": "worldwide-windows",
   "metadata": {},
   "source": [
    "### Create a Guest Session\n",
    "\n",
    "Next, we get to the main feature. We'll start a Guest Session with the `start_whylabs_session` api. The important thing about this API to notice is that there is a consent flag to data uploading.\n",
    "\n",
    "```python\n",
    "start_whylabs_session(data_collection_consent=True)\n",
    "```\n",
    "\n",
    "We just want to make it clear that this does upload statistical data to WhyLabs.ai. We don't ever upload raw data, only the profiles that we generate via logging. The flag has to be `True` or the feature will bail out."
   ]
  },
  {
   "cell_type": "code",
   "execution_count": 4,
   "id": "married-intention",
   "metadata": {},
   "outputs": [
    {
     "name": "stdout",
     "output_type": "stream",
     "text": [
      "WARN: Missing config\n"
     ]
    }
   ],
   "source": [
    "session = start_whylabs_session(data_collection_consent=True, report_progress=True)"
   ]
  },
  {
   "cell_type": "markdown",
   "id": "south-distinction",
   "metadata": {},
   "source": [
    "### Log the data\n",
    "\n",
    "Next we'll actually log the data and generate the statistical profiles. This will generate a profile for each day in the data that we're logging."
   ]
  },
  {
   "cell_type": "code",
   "execution_count": 5,
   "id": "exotic-montgomery",
   "metadata": {},
   "outputs": [
    {
     "data": {
      "application/vnd.jupyter.widget-view+json": {
       "model_id": "76d3830979484d50af199459b4a207b6",
       "version_major": 2,
       "version_minor": 0
      },
      "text/plain": [
       "  0%|          | 0/2 [00:00<?, ?it/s]"
      ]
     },
     "metadata": {},
     "output_type": "display_data"
    }
   ],
   "source": [
    "data = [\n",
    "    [training_data, \"training\", datetime.now()], \n",
    "    [test_data, \"test\", datetime.now() - timedelta(days=1)]\n",
    "]\n",
    "\n",
    "for df, name, ts in tqdm(data):\n",
    "    logger = session.logger(dataset_name=name, dataset_timestamp=ts).log_dataframe(df)"
   ]
  },
  {
   "cell_type": "markdown",
   "id": "surprising-breast",
   "metadata": {},
   "source": [
    "### Close the session and upload the generated profiles\n",
    "\n",
    "Finally, we close the session which causes the profile uploads to WhyLabs.ai. The progress bar reflects the upload process. When it's done it will print out a URL that you can use to view the data in the WhyLabs.ai dashboard."
   ]
  },
  {
   "cell_type": "code",
   "execution_count": 6,
   "id": "favorite-badge",
   "metadata": {},
   "outputs": [
    {
     "name": "stdout",
     "output_type": "stream",
     "text": [
      "done\n"
     ]
    },
    {
     "data": {
      "application/vnd.jupyter.widget-view+json": {
       "model_id": "bb142e950b6a4614b2e247e0b8c6f28f",
       "version_major": 2,
       "version_minor": 0
      },
      "text/plain": [
       "  0%|          | 0/2 [00:00<?, ?it/s]"
      ]
     },
     "metadata": {},
     "output_type": "display_data"
    },
    {
     "name": "stdout",
     "output_type": "stream",
     "text": [
      "You can explore your data in Observatory here: https://hub.whylabsapp.com/models/model-1/profiles/?sessionToken=session-12678\n"
     ]
    }
   ],
   "source": [
    "with session:\n",
    "    print(\"done\")"
   ]
  },
  {
   "cell_type": "markdown",
   "id": "static-pollution",
   "metadata": {},
   "source": [
    "### View your data in WhyLabs\n",
    "\n",
    "Clicking the URL above will bring you to the WhyLabs dashboard. You'll see a banner at the top that indicates that we may still be processing data in our backend. You'll land on our profile viewer page and you'll be able to see the uploaded profiles from here, possibly before all of the data finishes processing."
   ]
  }
 ],
 "metadata": {
  "kernelspec": {
   "display_name": "guest-session-demo",
   "language": "python",
   "name": "guest-session-demo"
  },
  "language_info": {
   "codemirror_mode": {
    "name": "ipython",
    "version": 3
   },
   "file_extension": ".py",
   "mimetype": "text/x-python",
   "name": "python",
   "nbconvert_exporter": "python",
   "pygments_lexer": "ipython3",
   "version": "3.9.4"
  }
 },
 "nbformat": 4,
 "nbformat_minor": 5
}
