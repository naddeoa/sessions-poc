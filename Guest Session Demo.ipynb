{
 "cells": [
  {
   "cell_type": "markdown",
   "id": "psychological-shelf",
   "metadata": {},
   "source": [
    "# Guest Session Feature Demo\n",
    "\n",
    "This notebook is a demo of a feature that WhyLabs is working on called Guest Sessions. The feature builds ontop of our open source library, whylogs, to make it easier to visualize datasets and identify data issues. \n",
    "\n",
    "Typically when using whylogs, you'll log data to using one of the `whylogs.log()` apis to generate JSON and/or binary profiles locally that summarize various statistics about the dataset. That feature isn't going anywhere, don't worry! Guest Sessions take those generated statistics and uploads them to WhyLabs.ai to populate our dashbaord without the need to sign in or share any personal identifiable information."
   ]
  },
  {
   "cell_type": "markdown",
   "id": "graphic-coalition",
   "metadata": {},
   "source": [
    "## How it works\n",
    "\n",
    "The rest of the notebook will go through how the feature works and how to use it, starting with imports."
   ]
  },
  {
   "cell_type": "code",
   "execution_count": 1,
   "id": "three-millennium",
   "metadata": {},
   "outputs": [],
   "source": [
    "import pandas as pd\n",
    "from datetime import datetime\n",
    "from whylogs.app.session import start_whylabs_session\n",
    "from tqdm.auto import tqdm"
   ]
  },
  {
   "cell_type": "markdown",
   "id": "compound-richards",
   "metadata": {},
   "source": [
    "### Load the data\n",
    "\n",
    "Next, we'll load a sample dataset for logging with whylogs. The dataset was based on a set [from Kaggle](https://www.kaggle.com/yugagrawal95/sample-media-spends-data) for various advertising campaigns. We'll just use the subset of data from April months."
   ]
  },
  {
   "cell_type": "code",
   "execution_count": 2,
   "id": "controlled-vintage",
   "metadata": {},
   "outputs": [
    {
     "data": {
      "text/html": [
       "<div>\n",
       "<style scoped>\n",
       "    .dataframe tbody tr th:only-of-type {\n",
       "        vertical-align: middle;\n",
       "    }\n",
       "\n",
       "    .dataframe tbody tr th {\n",
       "        vertical-align: top;\n",
       "    }\n",
       "\n",
       "    .dataframe thead th {\n",
       "        text-align: right;\n",
       "    }\n",
       "</style>\n",
       "<table border=\"1\" class=\"dataframe\">\n",
       "  <thead>\n",
       "    <tr style=\"text-align: right;\">\n",
       "      <th></th>\n",
       "      <th>Division</th>\n",
       "      <th>Calendar_Week</th>\n",
       "      <th>Paid_Views</th>\n",
       "      <th>Organic_Views</th>\n",
       "      <th>Google_Impressions</th>\n",
       "      <th>Email_Impressions</th>\n",
       "      <th>Facebook_Impressions</th>\n",
       "      <th>Affiliate_Impressions</th>\n",
       "      <th>Overall_Views</th>\n",
       "      <th>Sales</th>\n",
       "    </tr>\n",
       "  </thead>\n",
       "  <tbody>\n",
       "    <tr>\n",
       "      <th>0</th>\n",
       "      <td>A</td>\n",
       "      <td>4/7/2021</td>\n",
       "      <td>604</td>\n",
       "      <td>22</td>\n",
       "      <td>130736</td>\n",
       "      <td>418862.0356</td>\n",
       "      <td>91874</td>\n",
       "      <td>6575</td>\n",
       "      <td>737</td>\n",
       "      <td>53473</td>\n",
       "    </tr>\n",
       "    <tr>\n",
       "      <th>1</th>\n",
       "      <td>A</td>\n",
       "      <td>4/14/2021</td>\n",
       "      <td>342</td>\n",
       "      <td>432</td>\n",
       "      <td>208099</td>\n",
       "      <td>508059.5563</td>\n",
       "      <td>61025</td>\n",
       "      <td>7733</td>\n",
       "      <td>550</td>\n",
       "      <td>59351</td>\n",
       "    </tr>\n",
       "    <tr>\n",
       "      <th>2</th>\n",
       "      <td>A</td>\n",
       "      <td>4/21/2021</td>\n",
       "      <td>833</td>\n",
       "      <td>10</td>\n",
       "      <td>209285</td>\n",
       "      <td>412036.2647</td>\n",
       "      <td>38548</td>\n",
       "      <td>8358</td>\n",
       "      <td>792</td>\n",
       "      <td>72647</td>\n",
       "    </tr>\n",
       "    <tr>\n",
       "      <th>3</th>\n",
       "      <td>A</td>\n",
       "      <td>4/28/2021</td>\n",
       "      <td>868</td>\n",
       "      <td>750</td>\n",
       "      <td>232531</td>\n",
       "      <td>473344.0824</td>\n",
       "      <td>27777</td>\n",
       "      <td>8208</td>\n",
       "      <td>905</td>\n",
       "      <td>62975</td>\n",
       "    </tr>\n",
       "    <tr>\n",
       "      <th>4</th>\n",
       "      <td>A</td>\n",
       "      <td>4/6/2021</td>\n",
       "      <td>3179</td>\n",
       "      <td>8439</td>\n",
       "      <td>432125</td>\n",
       "      <td>364178.8038</td>\n",
       "      <td>57047</td>\n",
       "      <td>8476</td>\n",
       "      <td>11929</td>\n",
       "      <td>79718</td>\n",
       "    </tr>\n",
       "    <tr>\n",
       "      <th>...</th>\n",
       "      <td>...</td>\n",
       "      <td>...</td>\n",
       "      <td>...</td>\n",
       "      <td>...</td>\n",
       "      <td>...</td>\n",
       "      <td>...</td>\n",
       "      <td>...</td>\n",
       "      <td>...</td>\n",
       "      <td>...</td>\n",
       "      <td>...</td>\n",
       "    </tr>\n",
       "    <tr>\n",
       "      <th>211</th>\n",
       "      <td>Z</td>\n",
       "      <td>4/28/2021</td>\n",
       "      <td>684</td>\n",
       "      <td>950</td>\n",
       "      <td>266994</td>\n",
       "      <td>692721.3919</td>\n",
       "      <td>26112</td>\n",
       "      <td>17965</td>\n",
       "      <td>139</td>\n",
       "      <td>77031</td>\n",
       "    </tr>\n",
       "    <tr>\n",
       "      <th>212</th>\n",
       "      <td>Z</td>\n",
       "      <td>4/6/2021</td>\n",
       "      <td>2003</td>\n",
       "      <td>8666</td>\n",
       "      <td>506927</td>\n",
       "      <td>533365.3933</td>\n",
       "      <td>65380</td>\n",
       "      <td>14159</td>\n",
       "      <td>10794</td>\n",
       "      <td>73578</td>\n",
       "    </tr>\n",
       "    <tr>\n",
       "      <th>213</th>\n",
       "      <td>Z</td>\n",
       "      <td>4/13/2021</td>\n",
       "      <td>2501</td>\n",
       "      <td>8047</td>\n",
       "      <td>620729</td>\n",
       "      <td>517477.9072</td>\n",
       "      <td>104872</td>\n",
       "      <td>13415</td>\n",
       "      <td>10091</td>\n",
       "      <td>70892</td>\n",
       "    </tr>\n",
       "    <tr>\n",
       "      <th>214</th>\n",
       "      <td>Z</td>\n",
       "      <td>4/20/2021</td>\n",
       "      <td>4893</td>\n",
       "      <td>9131</td>\n",
       "      <td>604834</td>\n",
       "      <td>562746.4443</td>\n",
       "      <td>168324</td>\n",
       "      <td>11114</td>\n",
       "      <td>13666</td>\n",
       "      <td>84341</td>\n",
       "    </tr>\n",
       "    <tr>\n",
       "      <th>215</th>\n",
       "      <td>Z</td>\n",
       "      <td>4/27/2021</td>\n",
       "      <td>6183</td>\n",
       "      <td>7807</td>\n",
       "      <td>485688</td>\n",
       "      <td>653055.2620</td>\n",
       "      <td>157997</td>\n",
       "      <td>12237</td>\n",
       "      <td>13323</td>\n",
       "      <td>81651</td>\n",
       "    </tr>\n",
       "  </tbody>\n",
       "</table>\n",
       "<p>216 rows × 10 columns</p>\n",
       "</div>"
      ],
      "text/plain": [
       "    Division Calendar_Week  Paid_Views  Organic_Views  Google_Impressions  \\\n",
       "0          A      4/7/2021         604             22              130736   \n",
       "1          A     4/14/2021         342            432              208099   \n",
       "2          A     4/21/2021         833             10              209285   \n",
       "3          A     4/28/2021         868            750              232531   \n",
       "4          A      4/6/2021        3179           8439              432125   \n",
       "..       ...           ...         ...            ...                 ...   \n",
       "211        Z     4/28/2021         684            950              266994   \n",
       "212        Z      4/6/2021        2003           8666              506927   \n",
       "213        Z     4/13/2021        2501           8047              620729   \n",
       "214        Z     4/20/2021        4893           9131              604834   \n",
       "215        Z     4/27/2021        6183           7807              485688   \n",
       "\n",
       "     Email_Impressions  Facebook_Impressions  Affiliate_Impressions  \\\n",
       "0          418862.0356                 91874                   6575   \n",
       "1          508059.5563                 61025                   7733   \n",
       "2          412036.2647                 38548                   8358   \n",
       "3          473344.0824                 27777                   8208   \n",
       "4          364178.8038                 57047                   8476   \n",
       "..                 ...                   ...                    ...   \n",
       "211        692721.3919                 26112                  17965   \n",
       "212        533365.3933                 65380                  14159   \n",
       "213        517477.9072                104872                  13415   \n",
       "214        562746.4443                168324                  11114   \n",
       "215        653055.2620                157997                  12237   \n",
       "\n",
       "     Overall_Views  Sales  \n",
       "0              737  53473  \n",
       "1              550  59351  \n",
       "2              792  72647  \n",
       "3              905  62975  \n",
       "4            11929  79718  \n",
       "..             ...    ...  \n",
       "211            139  77031  \n",
       "212          10794  73578  \n",
       "213          10091  70892  \n",
       "214          13666  84341  \n",
       "215          13323  81651  \n",
       "\n",
       "[216 rows x 10 columns]"
      ]
     },
     "execution_count": 2,
     "metadata": {},
     "output_type": "execute_result"
    }
   ],
   "source": [
    "csv_file = \"data/april.csv\"\n",
    "csv_dataframe = pd.read_csv(csv_file)\n",
    "csv_dataframe"
   ]
  },
  {
   "cell_type": "markdown",
   "id": "living-channels",
   "metadata": {},
   "source": [
    "### Group the data\n",
    "\n",
    "WhyLabs currently offers daily aggregation of data so we'll group up the data by day using `pandas.groupby()`."
   ]
  },
  {
   "cell_type": "code",
   "execution_count": 3,
   "id": "willing-powell",
   "metadata": {},
   "outputs": [],
   "source": [
    "grouped_data = csv_dataframe.groupby([\"Calendar_Week\"])"
   ]
  },
  {
   "cell_type": "markdown",
   "id": "known-accident",
   "metadata": {},
   "source": [
    "### Create a Guest Session\n",
    "\n",
    "Next, we get to the main feature. We'll start a Guest Session with the `start_whylabs_session` api. The important thing about this API to notice is that there is a consent flag to data uploading.\n",
    "\n",
    "```python\n",
    "start_whylabs_session(data_collection_consent=True)\n",
    "```\n",
    "\n",
    "We just want to make it clear that this does upload statistical data to WhyLabs.ai. We don't ever upload raw data, only the profiles that we generate via logging. The flag has to be `True` or the feature will bail out."
   ]
  },
  {
   "cell_type": "code",
   "execution_count": 13,
   "id": "empty-disability",
   "metadata": {},
   "outputs": [
    {
     "name": "stdout",
     "output_type": "stream",
     "text": [
      "WARN: Missing config\n"
     ]
    }
   ],
   "source": [
    "session = start_whylabs_session(data_collection_consent=True, report_progress=True)"
   ]
  },
  {
   "cell_type": "markdown",
   "id": "south-distinction",
   "metadata": {},
   "source": [
    "### Log the data\n",
    "\n",
    "Next we'll actually log the data and generate the statistical profiles. This will generate a profile for each day in the data that we're logging."
   ]
  },
  {
   "cell_type": "code",
   "execution_count": 14,
   "id": "exotic-montgomery",
   "metadata": {},
   "outputs": [
    {
     "data": {
      "application/vnd.jupyter.widget-view+json": {
       "model_id": "ee2aec10f20d486ca19e41d6761c5507",
       "version_major": 2,
       "version_minor": 0
      },
      "text/plain": [
       "  0%|          | 0/8 [00:00<?, ?it/s]"
      ]
     },
     "metadata": {},
     "output_type": "display_data"
    }
   ],
   "source": [
    "with tqdm(grouped_data) as t:\n",
    "    # Group each of the rows by the day they occur on using the date string in the Calendar_Week col\n",
    "    for day_string, dataframe_for_day in t:\n",
    "        # This dataset has dates of the form 9/5/2020\n",
    "        dt = datetime.strptime(day_string, \"%m/%d/%Y\")\n",
    "        t.set_description(f\"Logging data for {day_string}\")\n",
    "\n",
    "        # whylabs loggers are specific to the dataset's timestamp so we'll be using a different one for each\n",
    "        # date in our dataset.\n",
    "        logger = session.logger(dataset_timestamp=dt)\n",
    "\n",
    "        # log the data to the logger. The logger will write this data out in binary form when it closes, which\n",
    "        # at the end of the with block in the session's internal logic.\n",
    "        logger.log_dataframe(dataframe_for_day)\n"
   ]
  },
  {
   "cell_type": "markdown",
   "id": "sharp-contemporary",
   "metadata": {},
   "source": [
    "### Close the session and upload the generated profiles\n",
    "\n",
    "Finally, we close the session which causes the profile uploads to WhyLabs.ai. The progress bar reflects the upload process. When it's done it will print out a URL that you can use to view the data in the WhyLabs.ai dashboard."
   ]
  },
  {
   "cell_type": "code",
   "execution_count": 15,
   "id": "overhead-benchmark",
   "metadata": {},
   "outputs": [
    {
     "name": "stdout",
     "output_type": "stream",
     "text": [
      "done\n"
     ]
    },
    {
     "data": {
      "application/vnd.jupyter.widget-view+json": {
       "model_id": "142f62095f7a4569b4790701823d1398",
       "version_major": 2,
       "version_minor": 0
      },
      "text/plain": [
       "  0%|          | 0/8 [00:00<?, ?it/s]"
      ]
     },
     "metadata": {},
     "output_type": "display_data"
    },
    {
     "name": "stdout",
     "output_type": "stream",
     "text": [
      "You can explore your data in Observatory here: https://hub.whylabsapp.com/models/model-1/profiles/?sessionToken=session-79313\n"
     ]
    }
   ],
   "source": [
    "with session:\n",
    "    print(\"done\")"
   ]
  },
  {
   "cell_type": "markdown",
   "id": "warming-ordinance",
   "metadata": {},
   "source": [
    "### View your data in WhyLabs\n",
    "\n",
    "Clicking the URL above will bring you to the WhyLabs dashboard. You'll see a banner at the top that indicates that we may still be processing data in our backend. You'll land on our profile viewer page and you'll be able to see the uploaded profiles from here, possibly before all of the data finishes processing."
   ]
  }
 ],
 "metadata": {
  "kernelspec": {
   "display_name": "guest-session-demo",
   "language": "python",
   "name": "guest-session-demo"
  },
  "language_info": {
   "codemirror_mode": {
    "name": "ipython",
    "version": 3
   },
   "file_extension": ".py",
   "mimetype": "text/x-python",
   "name": "python",
   "nbconvert_exporter": "python",
   "pygments_lexer": "ipython3",
   "version": "3.9.4"
  }
 },
 "nbformat": 4,
 "nbformat_minor": 5
}
