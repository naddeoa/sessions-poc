{
 "cells": [
  {
   "cell_type": "markdown",
   "id": "psychological-shelf",
   "metadata": {},
   "source": [
    "# Guest Session Feature Demo\n",
    "\n",
    "This notebook is a demo of a feature that WhyLabs is working on called Guest Sessions. The feature builds ontop of our open source library, whylogs, to make it easier to visualize datasets and identify data issues. \n",
    "\n",
    "Typically when using whylogs, you'll log data to using one of the `whylogs.log()` apis to generate JSON and/or binary profiles locally that summarize various statistics about the dataset. That feature isn't going anywhere, don't worry! Guest Sessions take those generated statistics and uploads them to WhyLabs.ai to populate our dashboard without the need to sign in or share any personal identifiable information."
   ]
  },
  {
   "cell_type": "markdown",
   "id": "infinite-malpractice",
   "metadata": {},
   "source": [
    "## How it works\n",
    "\n",
    "The rest of the notebook will go through how the feature works and how to use it, starting with imports."
   ]
  },
  {
   "cell_type": "code",
   "execution_count": 24,
   "id": "three-millennium",
   "metadata": {},
   "outputs": [],
   "source": [
    "import pandas as pd\n",
    "from datetime import datetime, timedelta\n",
    "from whylogs.app.session import start_whylabs_session\n",
    "from tqdm.auto import tqdm"
   ]
  },
  {
   "cell_type": "markdown",
   "id": "compound-richards",
   "metadata": {},
   "source": [
    "### Load the data\n",
    "\n",
    "Next, we'll load a sample dataset for logging with whylogs. The dataset was based on a set [from Kaggle](https://www.kaggle.com/yugagrawal95/sample-media-spends-data) for various advertising campaigns."
   ]
  },
  {
   "cell_type": "code",
   "execution_count": 25,
   "id": "controlled-vintage",
   "metadata": {},
   "outputs": [
    {
     "data": {
      "text/html": [
       "<div>\n",
       "<style scoped>\n",
       "    .dataframe tbody tr th:only-of-type {\n",
       "        vertical-align: middle;\n",
       "    }\n",
       "\n",
       "    .dataframe tbody tr th {\n",
       "        vertical-align: top;\n",
       "    }\n",
       "\n",
       "    .dataframe thead th {\n",
       "        text-align: right;\n",
       "    }\n",
       "</style>\n",
       "<table border=\"1\" class=\"dataframe\">\n",
       "  <thead>\n",
       "    <tr style=\"text-align: right;\">\n",
       "      <th></th>\n",
       "      <th>Division</th>\n",
       "      <th>Days_In_Past</th>\n",
       "      <th>Paid_Views</th>\n",
       "      <th>Organic_Views</th>\n",
       "      <th>Google_Impressions</th>\n",
       "      <th>Email_Impressions</th>\n",
       "      <th>Facebook_Impressions</th>\n",
       "      <th>Affiliate_Impressions</th>\n",
       "      <th>Overall_Views</th>\n",
       "      <th>Sales</th>\n",
       "    </tr>\n",
       "  </thead>\n",
       "  <tbody>\n",
       "    <tr>\n",
       "      <th>0</th>\n",
       "      <td>N</td>\n",
       "      <td>4</td>\n",
       "      <td>30186</td>\n",
       "      <td>13332</td>\n",
       "      <td>319</td>\n",
       "      <td>1.057709e+06</td>\n",
       "      <td>267930</td>\n",
       "      <td>15162</td>\n",
       "      <td>43178</td>\n",
       "      <td>213285</td>\n",
       "    </tr>\n",
       "    <tr>\n",
       "      <th>1</th>\n",
       "      <td>B</td>\n",
       "      <td>4</td>\n",
       "      <td>178914</td>\n",
       "      <td>68433</td>\n",
       "      <td>2780542</td>\n",
       "      <td>3.356824e+06</td>\n",
       "      <td>1183683</td>\n",
       "      <td>74325</td>\n",
       "      <td>246655</td>\n",
       "      <td>905326</td>\n",
       "    </tr>\n",
       "    <tr>\n",
       "      <th>2</th>\n",
       "      <td>T</td>\n",
       "      <td>4</td>\n",
       "      <td>5409</td>\n",
       "      <td>4250</td>\n",
       "      <td>83965</td>\n",
       "      <td>1.720437e+05</td>\n",
       "      <td>62845</td>\n",
       "      <td>2797</td>\n",
       "      <td>8422</td>\n",
       "      <td>45115</td>\n",
       "    </tr>\n",
       "    <tr>\n",
       "      <th>3</th>\n",
       "      <td>C</td>\n",
       "      <td>4</td>\n",
       "      <td>1792</td>\n",
       "      <td>1350</td>\n",
       "      <td>390</td>\n",
       "      <td>9.788965e+04</td>\n",
       "      <td>26071</td>\n",
       "      <td>1838</td>\n",
       "      <td>2772</td>\n",
       "      <td>87712</td>\n",
       "    </tr>\n",
       "    <tr>\n",
       "      <th>4</th>\n",
       "      <td>G</td>\n",
       "      <td>4</td>\n",
       "      <td>49413</td>\n",
       "      <td>18101</td>\n",
       "      <td>635478</td>\n",
       "      <td>1.097394e+06</td>\n",
       "      <td>320715</td>\n",
       "      <td>20644</td>\n",
       "      <td>68333</td>\n",
       "      <td>189695</td>\n",
       "    </tr>\n",
       "    <tr>\n",
       "      <th>...</th>\n",
       "      <td>...</td>\n",
       "      <td>...</td>\n",
       "      <td>...</td>\n",
       "      <td>...</td>\n",
       "      <td>...</td>\n",
       "      <td>...</td>\n",
       "      <td>...</td>\n",
       "      <td>...</td>\n",
       "      <td>...</td>\n",
       "      <td>...</td>\n",
       "    </tr>\n",
       "    <tr>\n",
       "      <th>373</th>\n",
       "      <td>S</td>\n",
       "      <td>1</td>\n",
       "      <td>38844</td>\n",
       "      <td>34276</td>\n",
       "      <td>1447904</td>\n",
       "      <td>2.533716e+06</td>\n",
       "      <td>95613</td>\n",
       "      <td>21997</td>\n",
       "      <td>72410</td>\n",
       "      <td>184597</td>\n",
       "    </tr>\n",
       "    <tr>\n",
       "      <th>374</th>\n",
       "      <td>H</td>\n",
       "      <td>1</td>\n",
       "      <td>18626</td>\n",
       "      <td>15887</td>\n",
       "      <td>397768</td>\n",
       "      <td>1.018171e+06</td>\n",
       "      <td>41344</td>\n",
       "      <td>8045</td>\n",
       "      <td>33672</td>\n",
       "      <td>68251</td>\n",
       "    </tr>\n",
       "    <tr>\n",
       "      <th>375</th>\n",
       "      <td>Z</td>\n",
       "      <td>1</td>\n",
       "      <td>52480</td>\n",
       "      <td>52321</td>\n",
       "      <td>1185817</td>\n",
       "      <td>2.675419e+06</td>\n",
       "      <td>71610</td>\n",
       "      <td>20145</td>\n",
       "      <td>104088</td>\n",
       "      <td>144794</td>\n",
       "    </tr>\n",
       "    <tr>\n",
       "      <th>376</th>\n",
       "      <td>O</td>\n",
       "      <td>1</td>\n",
       "      <td>84267</td>\n",
       "      <td>56717</td>\n",
       "      <td>2616351</td>\n",
       "      <td>4.106323e+06</td>\n",
       "      <td>158521</td>\n",
       "      <td>26292</td>\n",
       "      <td>140350</td>\n",
       "      <td>243933</td>\n",
       "    </tr>\n",
       "    <tr>\n",
       "      <th>377</th>\n",
       "      <td>B</td>\n",
       "      <td>1</td>\n",
       "      <td>183982</td>\n",
       "      <td>153772</td>\n",
       "      <td>4880566</td>\n",
       "      <td>7.317730e+06</td>\n",
       "      <td>280897</td>\n",
       "      <td>56815</td>\n",
       "      <td>336930</td>\n",
       "      <td>596327</td>\n",
       "    </tr>\n",
       "  </tbody>\n",
       "</table>\n",
       "<p>378 rows × 10 columns</p>\n",
       "</div>"
      ],
      "text/plain": [
       "    Division  Days_In_Past  Paid_Views  Organic_Views  Google_Impressions  \\\n",
       "0          N             4       30186          13332                 319   \n",
       "1          B             4      178914          68433             2780542   \n",
       "2          T             4        5409           4250               83965   \n",
       "3          C             4        1792           1350                 390   \n",
       "4          G             4       49413          18101              635478   \n",
       "..       ...           ...         ...            ...                 ...   \n",
       "373        S             1       38844          34276             1447904   \n",
       "374        H             1       18626          15887              397768   \n",
       "375        Z             1       52480          52321             1185817   \n",
       "376        O             1       84267          56717             2616351   \n",
       "377        B             1      183982         153772             4880566   \n",
       "\n",
       "     Email_Impressions  Facebook_Impressions  Affiliate_Impressions  \\\n",
       "0         1.057709e+06                267930                  15162   \n",
       "1         3.356824e+06               1183683                  74325   \n",
       "2         1.720437e+05                 62845                   2797   \n",
       "3         9.788965e+04                 26071                   1838   \n",
       "4         1.097394e+06                320715                  20644   \n",
       "..                 ...                   ...                    ...   \n",
       "373       2.533716e+06                 95613                  21997   \n",
       "374       1.018171e+06                 41344                   8045   \n",
       "375       2.675419e+06                 71610                  20145   \n",
       "376       4.106323e+06                158521                  26292   \n",
       "377       7.317730e+06                280897                  56815   \n",
       "\n",
       "     Overall_Views   Sales  \n",
       "0            43178  213285  \n",
       "1           246655  905326  \n",
       "2             8422   45115  \n",
       "3             2772   87712  \n",
       "4            68333  189695  \n",
       "..             ...     ...  \n",
       "373          72410  184597  \n",
       "374          33672   68251  \n",
       "375         104088  144794  \n",
       "376         140350  243933  \n",
       "377         336930  596327  \n",
       "\n",
       "[378 rows x 10 columns]"
      ]
     },
     "execution_count": 25,
     "metadata": {},
     "output_type": "execute_result"
    }
   ],
   "source": [
    "csv_file = \"data/sample_media_spend.csv\"\n",
    "csv_dataframe = pd.read_csv(csv_file)\n",
    "csv_dataframe"
   ]
  },
  {
   "cell_type": "markdown",
   "id": "sensitive-carter",
   "metadata": {},
   "source": [
    "### Group the data\n",
    "\n",
    "The dataset is labeled with the number of days in the past (relative to today) the data happened for as a convenience for this demo. We'll group it up by that day offset."
   ]
  },
  {
   "cell_type": "code",
   "execution_count": 26,
   "id": "b1f09775",
   "metadata": {},
   "outputs": [],
   "source": [
    "grouped = csv_dataframe.groupby(\"Days_In_Past\")"
   ]
  },
  {
   "cell_type": "markdown",
   "id": "worldwide-windows",
   "metadata": {},
   "source": [
    "### Create a Guest Session\n",
    "\n",
    "Next, we get to the main feature. We'll start a Guest Session with the `start_whylabs_session` api. The important thing about this API to notice is that there is a consent flag to data uploading.\n",
    "\n",
    "```python\n",
    "start_whylabs_session(data_collection_consent=True)\n",
    "```\n",
    "\n",
    "We just want to make it clear that this does upload statistical data to WhyLabs.ai. We don't ever upload raw data, only the profiles that we generate via logging. The flag has to be `True` or the feature will bail out."
   ]
  },
  {
   "cell_type": "code",
   "execution_count": 27,
   "id": "married-intention",
   "metadata": {},
   "outputs": [
    {
     "name": "stdout",
     "output_type": "stream",
     "text": [
      "WARN: Missing config\n"
     ]
    }
   ],
   "source": [
    "session = start_whylabs_session(data_collection_consent=True, report_progress=True)"
   ]
  },
  {
   "cell_type": "markdown",
   "id": "south-distinction",
   "metadata": {},
   "source": [
    "### Log the data\n",
    "\n",
    "Next we'll actually log the data and generate the statistical profiles. This will generate a profile for each day in the data."
   ]
  },
  {
   "cell_type": "code",
   "execution_count": 28,
   "id": "5eac381c",
   "metadata": {},
   "outputs": [
    {
     "data": {
      "application/vnd.jupyter.widget-view+json": {
       "model_id": "ac1afdfbba424d3da40745f6f4ae47fb",
       "version_major": 2,
       "version_minor": 0
      },
      "text/plain": [
       "  0%|          | 0/4 [00:00<?, ?it/s]"
      ]
     },
     "metadata": {},
     "output_type": "display_data"
    }
   ],
   "source": [
    "for days_in_past, df in tqdm(grouped):\n",
    "    timestamp = datetime.now() - timedelta(days=days_in_past)\n",
    "    logger = session.logger(dataset_timestamp=timestamp)\n",
    "    logger.log_dataframe(df)"
   ]
  },
  {
   "cell_type": "markdown",
   "id": "surprising-breast",
   "metadata": {},
   "source": [
    "### Close the session and upload the generated profiles\n",
    "\n",
    "Finally, we close the session which causes the profile uploads to WhyLabs.ai. The progress bar reflects the upload process. When it's done it will print out a URL that you can use to view the data in the WhyLabs.ai dashboard."
   ]
  },
  {
   "cell_type": "code",
   "execution_count": 29,
   "id": "favorite-badge",
   "metadata": {},
   "outputs": [
    {
     "name": "stdout",
     "output_type": "stream",
     "text": [
      "done\n"
     ]
    },
    {
     "data": {
      "application/vnd.jupyter.widget-view+json": {
       "model_id": "c51b7ad0409a484686abf2a7dbe5c163",
       "version_major": 2,
       "version_minor": 0
      },
      "text/plain": [
       "  0%|          | 0/4 [00:00<?, ?it/s]"
      ]
     },
     "metadata": {},
     "output_type": "display_data"
    },
    {
     "name": "stdout",
     "output_type": "stream",
     "text": [
      "You can explore your data in Observatory here: https://hub.whylabsapp.com/models/model-1/profiles/?sessionToken=session-41833\n"
     ]
    }
   ],
   "source": [
    "with session:\n",
    "    print(\"done\")"
   ]
  },
  {
   "cell_type": "markdown",
   "id": "static-pollution",
   "metadata": {},
   "source": [
    "### View your data in WhyLabs\n",
    "\n",
    "Clicking the URL above will bring you to the WhyLabs dashboard. You'll see a banner at the top that indicates that we may still be processing data in our backend. You'll land on our profile viewer page and you'll be able to see the uploaded profiles from here, possibly before all of the data finishes processing."
   ]
  }
 ],
 "metadata": {
  "kernelspec": {
   "display_name": "guest-session-demo",
   "language": "python",
   "name": "guest-session-demo"
  },
  "language_info": {
   "codemirror_mode": {
    "name": "ipython",
    "version": 3
   },
   "file_extension": ".py",
   "mimetype": "text/x-python",
   "name": "python",
   "nbconvert_exporter": "python",
   "pygments_lexer": "ipython3",
   "version": "3.9.4"
  }
 },
 "nbformat": 4,
 "nbformat_minor": 5
}
